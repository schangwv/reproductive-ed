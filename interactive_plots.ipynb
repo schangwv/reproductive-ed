{
 "cells": [
  {
   "cell_type": "markdown",
   "metadata": {},
   "source": [
    "# Differential Equations: Hormone Levels in the Menstrual Cycle"
   ]
  },
  {
   "cell_type": "markdown",
   "metadata": {},
   "source": [
    "This notebook is a demonstration of ways to visualize data related to the human menstrual cycle, both statically and interactively, in iPython."
   ]
  },
  {
   "cell_type": "markdown",
   "metadata": {},
   "source": [
    "## Simple Mathematical Modeling of Hormone Levels in the Human Menstrual Cycle\n",
    "\n",
    "Inspired by a paper entitled \"Computer Simulation Of A Mathematical Model Of The Estrogen-Progesterone Cycle\"[1],\n",
    "this example presents a simplified sinusoidal model of blood levels of the leutinizing hormone (LH), estrogen (E),\n",
    "and progesterone (P) over the course of a human menstrual cycle. \n",
    "\n",
    "<img src=\"https://images.contentful.com/juauvlea4rbf/q0HGItQiNEseAy0agMu60/ab21466df26f4c7f20b08da25c176c42/ovulation-101-work_2_2x.png\"></img>\n",
    "\n",
    "\n",
    "[1] Gail Gallitano, H.M. Hubey & Ruth Blanche (1987) Computer Simulation Of A Mathematical Model Of The Estrogen-Progesterone Cycle, International Journal of Modelling and Simulation, 7:2, 77-80, DOI: 10.1080/02286203.1987.11760000"
   ]
  },
  {
   "cell_type": "code",
   "execution_count": 3,
   "metadata": {},
   "outputs": [
    {
     "data": {
      "application/vnd.jupyter.widget-view+json": {
       "model_id": "6e2897c1d9654672bba14c62a18acafa",
       "version_major": 2,
       "version_minor": 0
      },
      "text/plain": [
       "interactive(children=(FloatSlider(value=1.0, description='a', max=2.0, min=-2.0), FloatSlider(value=1.0, descr…"
      ]
     },
     "metadata": {},
     "output_type": "display_data"
    }
   ],
   "source": [
    "import numpy as np\n",
    "from scipy.integrate import odeint\n",
    "import matplotlib.pyplot as plt\n",
    "from IPython.html.widgets import *\n",
    "import ipywidgets as wg\n",
    "from IPython.display import display \n",
    "from numpy import pi\n",
    "\n",
    "def plot_solution(a=1.,b=1.,c=1.,d=0.5):\n",
    "    def f(s, t):\n",
    "\n",
    "        l, p = s\n",
    "        dldt = a*l - b*l*p\n",
    "        dpdt = -c*p + d*l*p\n",
    "        return [dldt, dpdt]\n",
    "\n",
    "    t = np.arange(0,10*np.pi,0.01)\n",
    "    s0=[0.1,5]\n",
    "\n",
    "    s = odeint(f, s0, t)\n",
    "\n",
    "    plt.plot(t,s[:,0],'r-', linewidth=2.0)\n",
    "    plt.plot(t,s[:,1],'b-', linewidth=2.0)\n",
    "    plt.xlabel(\"day in menstrual cycle\")\n",
    "    plt.ylabel(\"concentration (ng/mL)\")\n",
    "    plt.legend([\"LH\",\"P\"])\n",
    "    plt.show()\n",
    "\n",
    "w = interactive(plot_solution, a=(-2.0,2.0), b=(-2.0,2.0), c=(-2.0,2.0), d=(-2.0,2.0))\n",
    "display(w)\n",
    "\n",
    "\n",
    "\n"
   ]
  },
  {
   "cell_type": "code",
   "execution_count": 2,
   "metadata": {},
   "outputs": [
    {
     "data": {
      "application/vnd.jupyter.widget-view+json": {
       "model_id": "e3991145b20740c3a7cea536fe450f60",
       "version_major": 2,
       "version_minor": 0
      },
      "text/plain": [
       "interactive(children=(FloatSlider(value=1.5, description='P_0', max=3.0), Output()), _dom_classes=('widget-int…"
      ]
     },
     "metadata": {},
     "output_type": "display_data"
    },
    {
     "data": {
      "text/plain": [
       "<function __main__.pltFunc(P_0)>"
      ]
     },
     "execution_count": 2,
     "metadata": {},
     "output_type": "execute_result"
    }
   ],
   "source": [
    "from IPython.html.widgets import *\n",
    "import numpy as np\n",
    "import matplotlib.pyplot as plt\n",
    "import ipywidgets as wg\n",
    "from IPython.display import display \n",
    "from numpy import pi\n",
    "\n",
    "\n",
    "def pltFunc(P_0):\n",
    "    plt.figure(figsize=(15,8))\n",
    "    t = np.arange(0,2*pi,0.01)\n",
    "    a_1 = 5\n",
    "    a_2 = 5\n",
    "    w = np.sqrt(a_1*a_2)\n",
    "    L_0 = np.sqrt(a_1/a_2)*P_0\n",
    "    P = np.sin(w*t)\n",
    "    L = L_0*np.cos(w*t)\n",
    "\n",
    "    plt.subplot(221)\n",
    "    plt.text(3, 2, r'$L(t) = L_{0}\\cos(\\omega t)$', \n",
    "                             {'color': 'b', 'fontsize': 16, 'ha': 'center', 'va': 'center',})\n",
    "    plt.plot(t, L, 'b', linewidth=2)\n",
    "    plt.title('Leutinizing Hormone Level - change ')\n",
    "    plt.xlabel('t', {'color': 'k', 'fontsize': 20})\n",
    "    plt.ylabel('L(t)', {'color': 'k', 'fontsize': 20})\n",
    "    plt.ylim([-2.5,2.5])\n",
    "    plt.xlim([0,2*pi])\n",
    "    plt.xticks((0, pi, 2*pi), ('$0$','$\\pi$','$2\\pi$'), color='k', size=20)\n",
    "    plt.yticks((-2, 0, 2), ('-2','$0$','+2'), color='k', size=20)\n",
    "   \n",
    "    plt.show()\n",
    "   \n",
    "\n",
    "p0_slide = wg.FloatSlider(value=1.5,min=0,max=3,step=0.1)\n",
    "interact(pltFunc, P_0 = p0_slide)"
   ]
  },
  {
   "cell_type": "code",
   "execution_count": null,
   "metadata": {},
   "outputs": [],
   "source": []
  }
 ],
 "metadata": {
  "kernelspec": {
   "display_name": "Python 3",
   "language": "python",
   "name": "python3"
  },
  "language_info": {
   "codemirror_mode": {
    "name": "ipython",
    "version": 3
   },
   "file_extension": ".py",
   "mimetype": "text/x-python",
   "name": "python",
   "nbconvert_exporter": "python",
   "pygments_lexer": "ipython3",
   "version": "3.6.6"
  }
 },
 "nbformat": 4,
 "nbformat_minor": 2
}
